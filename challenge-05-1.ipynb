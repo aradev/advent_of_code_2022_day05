{
 "cells": [
  {
   "cell_type": "code",
   "execution_count": null,
   "metadata": {},
   "outputs": [],
   "source": [
    "test_file = \"data-01/test-input.txt\"\n",
    "main_file = \"data-01/input.txt\"\n",
    "\n",
    "from collections import deque"
   ]
  },
  {
   "cell_type": "code",
   "execution_count": null,
   "metadata": {},
   "outputs": [],
   "source": [
    "def extraxt_initial_state(input_file):\n",
    "    import string\n",
    "        \n",
    "    with open(input_file, \"r\") as f:\n",
    "        lines = []\n",
    "        for line in f:\n",
    "            if len(line.strip()) < 1:\n",
    "                break\n",
    "            lines.append(line)\n",
    "    #print(lines[:-1])\n",
    "    stack_items = lines[:-1]\n",
    "    # print(stack_items[::-1])\n",
    "    # print(lines[-1:])\n",
    "    stack_ids = lines[-1:][0]\n",
    "\n",
    "    stacks = {\n",
    "        int(k): deque()\n",
    "        for k in stack_ids.split()\n",
    "    }\n",
    "    # print(stacks)\n",
    "\n",
    "    for k in stacks:\n",
    "        k_idx = stack_ids.find(str(k))\n",
    "        # print(k_idx)\n",
    "        for stack_level in stack_items[::-1]:\n",
    "            if stack_level[k_idx] not in string.ascii_letters:\n",
    "                break\n",
    "            stacks[k].append(stack_level[k_idx])\n",
    "\n",
    "    # print(stacks)\n",
    "    return (stacks)\n"
   ]
  },
  {
   "cell_type": "code",
   "execution_count": null,
   "metadata": {},
   "outputs": [],
   "source": [
    "from typing import NamedTuple\n",
    "class MoveInstruction(NamedTuple):\n",
    "    count: int\n",
    "    from_stack: int\n",
    "    to_stack: int\n",
    "\n",
    "def move_instruction_from_line(line):\n",
    "    import re\n",
    "    if not re.fullmatch(r'^move\\s+\\d+\\s+from\\s+(\\d)+\\s+to\\s+(\\d)+$', line):\n",
    "        return None\n",
    "    count, from_stack, to_stack = tuple(re.findall(r'\\d+',line))\n",
    "    return MoveInstruction(int(count), int(from_stack), int(to_stack))\n",
    "\n",
    "print(move_instruction_from_line('move 32 from 1 to 13'))\n",
    "print(move_instruction_from_line('move 3 from 1 to 3'))"
   ]
  },
  {
   "cell_type": "code",
   "execution_count": null,
   "metadata": {},
   "outputs": [],
   "source": [
    "def extraxt_moves_queue(input_file):\n",
    "    move_queue = deque()\n",
    "    with open(input_file, \"r\") as f:\n",
    "        for line in f:\n",
    "            move_instruction = move_instruction_from_line(line.strip())\n",
    "            if not move_instruction:\n",
    "                continue\n",
    "            move_queue.append(move_instruction)\n",
    "\n",
    "    return move_queue\n"
   ]
  },
  {
   "cell_type": "code",
   "execution_count": null,
   "metadata": {},
   "outputs": [],
   "source": [
    "def challenge_05_1(input_file):\n",
    "    stacks = extraxt_initial_state(input_file)\n",
    "    # print(stacks)\n",
    "    move_queue = extraxt_moves_queue(input_file)\n",
    "    # print(move_queue)\n",
    "\n",
    "    for move_instruction in move_queue:\n",
    "        # print(move_instruction)\n",
    "        from_stack = stacks[move_instruction.from_stack]\n",
    "        to_stack = stacks[move_instruction.to_stack]\n",
    "        for _ in range(move_instruction.count):\n",
    "            moved_item = from_stack.pop()\n",
    "            to_stack.append(moved_item)\n",
    "    \n",
    "    top_crates = {}\n",
    "    for k,v in stacks.items():\n",
    "        top_crates[k] = v.pop()\n",
    "        v.append(top_crates[k])\n",
    "\n",
    "    # print(top_crates)\n",
    "\n",
    "    return (\"\".join([str(i) for i in top_crates.values()]))\n",
    "\n",
    "\n",
    "\n",
    "challenge_05_1(input_file=test_file)"
   ]
  },
  {
   "cell_type": "code",
   "execution_count": null,
   "metadata": {},
   "outputs": [],
   "source": [
    "challenge_05_1(input_file=main_file)"
   ]
  }
 ],
 "metadata": {
  "kernelspec": {
   "display_name": "Python 3.11.0 ('base')",
   "language": "python",
   "name": "python3"
  },
  "language_info": {
   "codemirror_mode": {
    "name": "ipython",
    "version": 3
   },
   "file_extension": ".py",
   "mimetype": "text/x-python",
   "name": "python",
   "nbconvert_exporter": "python",
   "pygments_lexer": "ipython3",
   "version": "3.11.0"
  },
  "orig_nbformat": 4,
  "vscode": {
   "interpreter": {
    "hash": "d4d1e4263499bec80672ea0156c357c1ee493ec2b1c70f0acce89fc37c4a6abe"
   }
  }
 },
 "nbformat": 4,
 "nbformat_minor": 2
}
